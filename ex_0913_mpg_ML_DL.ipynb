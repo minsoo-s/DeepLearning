{
 "cells": [
  {
   "cell_type": "code",
   "execution_count": 558,
   "metadata": {},
   "outputs": [],
   "source": [
    "from tensorflow import keras\n",
    "import pandas as pd"
   ]
  },
  {
   "cell_type": "code",
   "execution_count": 559,
   "metadata": {},
   "outputs": [],
   "source": [
    "from urllib.request import urlretrieve\n",
    "\n",
    "url = 'https://archive.ics.uci.edu/ml/machine-learning-databases/auto-mpg/auto-mpg.data'\n",
    "FILE = \"auto-mpg.csv\"\n"
   ]
  },
  {
   "cell_type": "code",
   "execution_count": 560,
   "metadata": {},
   "outputs": [],
   "source": [
    "df_origin = pd.read_csv(url, sep ='\\s+', header = None) # \\s+ : 화이트스페이스 \n",
    "df = df_origin.copy() "
   ]
  },
  {
   "cell_type": "code",
   "execution_count": 561,
   "metadata": {},
   "outputs": [],
   "source": [
    "column_names = ['MPG','Cylinders','Displacement','Horsepower','Weight',\n",
    "                'Acceleration', 'Model Year', 'Origin','car name']\n",
    "df.columns=column_names\n"
   ]
  },
  {
   "cell_type": "code",
   "execution_count": 562,
   "metadata": {},
   "outputs": [
    {
     "data": {
      "text/html": [
       "<div>\n",
       "<style scoped>\n",
       "    .dataframe tbody tr th:only-of-type {\n",
       "        vertical-align: middle;\n",
       "    }\n",
       "\n",
       "    .dataframe tbody tr th {\n",
       "        vertical-align: top;\n",
       "    }\n",
       "\n",
       "    .dataframe thead th {\n",
       "        text-align: right;\n",
       "    }\n",
       "</style>\n",
       "<table border=\"1\" class=\"dataframe\">\n",
       "  <thead>\n",
       "    <tr style=\"text-align: right;\">\n",
       "      <th></th>\n",
       "      <th>MPG</th>\n",
       "      <th>Cylinders</th>\n",
       "      <th>Displacement</th>\n",
       "      <th>Horsepower</th>\n",
       "      <th>Weight</th>\n",
       "      <th>Acceleration</th>\n",
       "      <th>Model Year</th>\n",
       "      <th>Origin</th>\n",
       "      <th>car name</th>\n",
       "    </tr>\n",
       "  </thead>\n",
       "  <tbody>\n",
       "    <tr>\n",
       "      <th>0</th>\n",
       "      <td>18.0</td>\n",
       "      <td>8</td>\n",
       "      <td>307.0</td>\n",
       "      <td>130.0</td>\n",
       "      <td>3504.0</td>\n",
       "      <td>12.0</td>\n",
       "      <td>70</td>\n",
       "      <td>1</td>\n",
       "      <td>chevrolet chevelle malibu</td>\n",
       "    </tr>\n",
       "    <tr>\n",
       "      <th>1</th>\n",
       "      <td>15.0</td>\n",
       "      <td>8</td>\n",
       "      <td>350.0</td>\n",
       "      <td>165.0</td>\n",
       "      <td>3693.0</td>\n",
       "      <td>11.5</td>\n",
       "      <td>70</td>\n",
       "      <td>1</td>\n",
       "      <td>buick skylark 320</td>\n",
       "    </tr>\n",
       "    <tr>\n",
       "      <th>2</th>\n",
       "      <td>18.0</td>\n",
       "      <td>8</td>\n",
       "      <td>318.0</td>\n",
       "      <td>150.0</td>\n",
       "      <td>3436.0</td>\n",
       "      <td>11.0</td>\n",
       "      <td>70</td>\n",
       "      <td>1</td>\n",
       "      <td>plymouth satellite</td>\n",
       "    </tr>\n",
       "    <tr>\n",
       "      <th>3</th>\n",
       "      <td>16.0</td>\n",
       "      <td>8</td>\n",
       "      <td>304.0</td>\n",
       "      <td>150.0</td>\n",
       "      <td>3433.0</td>\n",
       "      <td>12.0</td>\n",
       "      <td>70</td>\n",
       "      <td>1</td>\n",
       "      <td>amc rebel sst</td>\n",
       "    </tr>\n",
       "    <tr>\n",
       "      <th>4</th>\n",
       "      <td>17.0</td>\n",
       "      <td>8</td>\n",
       "      <td>302.0</td>\n",
       "      <td>140.0</td>\n",
       "      <td>3449.0</td>\n",
       "      <td>10.5</td>\n",
       "      <td>70</td>\n",
       "      <td>1</td>\n",
       "      <td>ford torino</td>\n",
       "    </tr>\n",
       "  </tbody>\n",
       "</table>\n",
       "</div>"
      ],
      "text/plain": [
       "    MPG  Cylinders  Displacement Horsepower  Weight  Acceleration  Model Year  \\\n",
       "0  18.0          8         307.0      130.0  3504.0          12.0          70   \n",
       "1  15.0          8         350.0      165.0  3693.0          11.5          70   \n",
       "2  18.0          8         318.0      150.0  3436.0          11.0          70   \n",
       "3  16.0          8         304.0      150.0  3433.0          12.0          70   \n",
       "4  17.0          8         302.0      140.0  3449.0          10.5          70   \n",
       "\n",
       "   Origin                   car name  \n",
       "0       1  chevrolet chevelle malibu  \n",
       "1       1          buick skylark 320  \n",
       "2       1         plymouth satellite  \n",
       "3       1              amc rebel sst  \n",
       "4       1                ford torino  "
      ]
     },
     "execution_count": 562,
     "metadata": {},
     "output_type": "execute_result"
    }
   ],
   "source": [
    "df.head()"
   ]
  },
  {
   "cell_type": "code",
   "execution_count": 563,
   "metadata": {},
   "outputs": [
    {
     "data": {
      "text/plain": [
       "array([8, 4, 6, 3, 5])"
      ]
     },
     "execution_count": 563,
     "metadata": {},
     "output_type": "execute_result"
    }
   ],
   "source": [
    "df['Cylinders'].unique()"
   ]
  },
  {
   "cell_type": "code",
   "execution_count": 564,
   "metadata": {},
   "outputs": [
    {
     "name": "stdout",
     "output_type": "stream",
     "text": [
      "<class 'pandas.core.frame.DataFrame'>\n",
      "RangeIndex: 398 entries, 0 to 397\n",
      "Data columns (total 9 columns):\n",
      " #   Column        Non-Null Count  Dtype  \n",
      "---  ------        --------------  -----  \n",
      " 0   MPG           398 non-null    float64\n",
      " 1   Cylinders     398 non-null    int64  \n",
      " 2   Displacement  398 non-null    float64\n",
      " 3   Horsepower    398 non-null    object \n",
      " 4   Weight        398 non-null    float64\n",
      " 5   Acceleration  398 non-null    float64\n",
      " 6   Model Year    398 non-null    int64  \n",
      " 7   Origin        398 non-null    int64  \n",
      " 8   car name      398 non-null    object \n",
      "dtypes: float64(4), int64(3), object(2)\n",
      "memory usage: 28.1+ KB\n"
     ]
    }
   ],
   "source": [
    "df.info()"
   ]
  },
  {
   "cell_type": "code",
   "execution_count": 565,
   "metadata": {},
   "outputs": [
    {
     "data": {
      "text/plain": [
       "MPG             0\n",
       "Cylinders       0\n",
       "Displacement    0\n",
       "Horsepower      0\n",
       "Weight          0\n",
       "Acceleration    0\n",
       "Model Year      0\n",
       "Origin          0\n",
       "car name        0\n",
       "dtype: int64"
      ]
     },
     "execution_count": 565,
     "metadata": {},
     "output_type": "execute_result"
    }
   ],
   "source": [
    "df.isnull().sum()"
   ]
  },
  {
   "cell_type": "code",
   "execution_count": 566,
   "metadata": {},
   "outputs": [
    {
     "data": {
      "text/plain": [
       "150.0    22\n",
       "90.00    20\n",
       "88.00    19\n",
       "110.0    18\n",
       "100.0    17\n",
       "         ..\n",
       "61.00     1\n",
       "93.00     1\n",
       "148.0     1\n",
       "152.0     1\n",
       "82.00     1\n",
       "Name: Horsepower, Length: 94, dtype: int64"
      ]
     },
     "execution_count": 566,
     "metadata": {},
     "output_type": "execute_result"
    }
   ],
   "source": [
    "df['Horsepower'].value_counts()"
   ]
  },
  {
   "cell_type": "code",
   "execution_count": 567,
   "metadata": {},
   "outputs": [
    {
     "data": {
      "text/plain": [
       "array(['130.0', '165.0', '150.0', '140.0', '198.0', '220.0', '215.0',\n",
       "       '225.0', '190.0', '170.0', '160.0', '95.00', '97.00', '85.00',\n",
       "       '88.00', '46.00', '87.00', '90.00', '113.0', '200.0', '210.0',\n",
       "       '193.0', '?', '100.0', '105.0', '175.0', '153.0', '180.0', '110.0',\n",
       "       '72.00', '86.00', '70.00', '76.00', '65.00', '69.00', '60.00',\n",
       "       '80.00', '54.00', '208.0', '155.0', '112.0', '92.00', '145.0',\n",
       "       '137.0', '158.0', '167.0', '94.00', '107.0', '230.0', '49.00',\n",
       "       '75.00', '91.00', '122.0', '67.00', '83.00', '78.00', '52.00',\n",
       "       '61.00', '93.00', '148.0', '129.0', '96.00', '71.00', '98.00',\n",
       "       '115.0', '53.00', '81.00', '79.00', '120.0', '152.0', '102.0',\n",
       "       '108.0', '68.00', '58.00', '149.0', '89.00', '63.00', '48.00',\n",
       "       '66.00', '139.0', '103.0', '125.0', '133.0', '138.0', '135.0',\n",
       "       '142.0', '77.00', '62.00', '132.0', '84.00', '64.00', '74.00',\n",
       "       '116.0', '82.00'], dtype=object)"
      ]
     },
     "execution_count": 567,
     "metadata": {},
     "output_type": "execute_result"
    }
   ],
   "source": [
    "df['Horsepower'].unique()"
   ]
  },
  {
   "cell_type": "code",
   "execution_count": 568,
   "metadata": {},
   "outputs": [],
   "source": [
    "df['Horsepower'].replace('?',0,inplace=True)"
   ]
  },
  {
   "cell_type": "code",
   "execution_count": 569,
   "metadata": {},
   "outputs": [
    {
     "data": {
      "text/plain": [
       "array(['130.0', '165.0', '150.0', '140.0', '198.0', '220.0', '215.0',\n",
       "       '225.0', '190.0', '170.0', '160.0', '95.00', '97.00', '85.00',\n",
       "       '88.00', '46.00', '87.00', '90.00', '113.0', '200.0', '210.0',\n",
       "       '193.0', 0, '100.0', '105.0', '175.0', '153.0', '180.0', '110.0',\n",
       "       '72.00', '86.00', '70.00', '76.00', '65.00', '69.00', '60.00',\n",
       "       '80.00', '54.00', '208.0', '155.0', '112.0', '92.00', '145.0',\n",
       "       '137.0', '158.0', '167.0', '94.00', '107.0', '230.0', '49.00',\n",
       "       '75.00', '91.00', '122.0', '67.00', '83.00', '78.00', '52.00',\n",
       "       '61.00', '93.00', '148.0', '129.0', '96.00', '71.00', '98.00',\n",
       "       '115.0', '53.00', '81.00', '79.00', '120.0', '152.0', '102.0',\n",
       "       '108.0', '68.00', '58.00', '149.0', '89.00', '63.00', '48.00',\n",
       "       '66.00', '139.0', '103.0', '125.0', '133.0', '138.0', '135.0',\n",
       "       '142.0', '77.00', '62.00', '132.0', '84.00', '64.00', '74.00',\n",
       "       '116.0', '82.00'], dtype=object)"
      ]
     },
     "execution_count": 569,
     "metadata": {},
     "output_type": "execute_result"
    }
   ],
   "source": [
    "df['Horsepower'].unique()"
   ]
  },
  {
   "cell_type": "code",
   "execution_count": 570,
   "metadata": {},
   "outputs": [],
   "source": [
    "df['Horsepower'] = pd.to_numeric(df['Horsepower'])"
   ]
  },
  {
   "cell_type": "code",
   "execution_count": 571,
   "metadata": {},
   "outputs": [
    {
     "name": "stdout",
     "output_type": "stream",
     "text": [
      "0    150.0\n",
      "Name: Horsepower, dtype: float64\n",
      "102.89447236180905\n"
     ]
    }
   ],
   "source": [
    "import numpy as np\n",
    "print(df['Horsepower'].mode())\n",
    "print(np.mean(df['Horsepower']))"
   ]
  },
  {
   "cell_type": "code",
   "execution_count": 572,
   "metadata": {},
   "outputs": [],
   "source": [
    "df['Horsepower'].replace(0,102,inplace=True)"
   ]
  },
  {
   "cell_type": "code",
   "execution_count": 573,
   "metadata": {},
   "outputs": [
    {
     "data": {
      "text/plain": [
       "array([130., 165., 150., 140., 198., 220., 215., 225., 190., 170., 160.,\n",
       "        95.,  97.,  85.,  88.,  46.,  87.,  90., 113., 200., 210., 193.,\n",
       "       102., 100., 105., 175., 153., 180., 110.,  72.,  86.,  70.,  76.,\n",
       "        65.,  69.,  60.,  80.,  54., 208., 155., 112.,  92., 145., 137.,\n",
       "       158., 167.,  94., 107., 230.,  49.,  75.,  91., 122.,  67.,  83.,\n",
       "        78.,  52.,  61.,  93., 148., 129.,  96.,  71.,  98., 115.,  53.,\n",
       "        81.,  79., 120., 152., 108.,  68.,  58., 149.,  89.,  63.,  48.,\n",
       "        66., 139., 103., 125., 133., 138., 135., 142.,  77.,  62., 132.,\n",
       "        84.,  64.,  74., 116.,  82.])"
      ]
     },
     "execution_count": 573,
     "metadata": {},
     "output_type": "execute_result"
    }
   ],
   "source": [
    "df['Horsepower'].unique()"
   ]
  },
  {
   "cell_type": "code",
   "execution_count": 574,
   "metadata": {},
   "outputs": [
    {
     "name": "stdout",
     "output_type": "stream",
     "text": [
      "<class 'pandas.core.frame.DataFrame'>\n",
      "RangeIndex: 398 entries, 0 to 397\n",
      "Data columns (total 9 columns):\n",
      " #   Column        Non-Null Count  Dtype  \n",
      "---  ------        --------------  -----  \n",
      " 0   MPG           398 non-null    float64\n",
      " 1   Cylinders     398 non-null    int64  \n",
      " 2   Displacement  398 non-null    float64\n",
      " 3   Horsepower    398 non-null    float64\n",
      " 4   Weight        398 non-null    float64\n",
      " 5   Acceleration  398 non-null    float64\n",
      " 6   Model Year    398 non-null    int64  \n",
      " 7   Origin        398 non-null    int64  \n",
      " 8   car name      398 non-null    object \n",
      "dtypes: float64(5), int64(3), object(1)\n",
      "memory usage: 28.1+ KB\n"
     ]
    }
   ],
   "source": [
    "df.info()"
   ]
  },
  {
   "cell_type": "code",
   "execution_count": 575,
   "metadata": {},
   "outputs": [
    {
     "data": {
      "text/plain": [
       "MPG             1.000000\n",
       "Cylinders      -0.775396\n",
       "Displacement   -0.804203\n",
       "Horsepower     -0.771974\n",
       "Weight         -0.831741\n",
       "Acceleration    0.420289\n",
       "Model Year      0.579267\n",
       "Origin          0.563450\n",
       "dtype: float64"
      ]
     },
     "execution_count": 575,
     "metadata": {},
     "output_type": "execute_result"
    }
   ],
   "source": [
    "df.corrwith(df['MPG'])"
   ]
  },
  {
   "cell_type": "code",
   "execution_count": 576,
   "metadata": {},
   "outputs": [
    {
     "data": {
      "text/html": [
       "<div>\n",
       "<style scoped>\n",
       "    .dataframe tbody tr th:only-of-type {\n",
       "        vertical-align: middle;\n",
       "    }\n",
       "\n",
       "    .dataframe tbody tr th {\n",
       "        vertical-align: top;\n",
       "    }\n",
       "\n",
       "    .dataframe thead th {\n",
       "        text-align: right;\n",
       "    }\n",
       "</style>\n",
       "<table border=\"1\" class=\"dataframe\">\n",
       "  <thead>\n",
       "    <tr style=\"text-align: right;\">\n",
       "      <th></th>\n",
       "      <th>MPG</th>\n",
       "      <th>Cylinders</th>\n",
       "      <th>Displacement</th>\n",
       "      <th>Horsepower</th>\n",
       "      <th>Weight</th>\n",
       "      <th>Acceleration</th>\n",
       "      <th>Model Year</th>\n",
       "      <th>Origin</th>\n",
       "    </tr>\n",
       "  </thead>\n",
       "  <tbody>\n",
       "    <tr>\n",
       "      <th>MPG</th>\n",
       "      <td>1.000000</td>\n",
       "      <td>-0.775396</td>\n",
       "      <td>-0.804203</td>\n",
       "      <td>-0.771974</td>\n",
       "      <td>-0.831741</td>\n",
       "      <td>0.420289</td>\n",
       "      <td>0.579267</td>\n",
       "      <td>0.563450</td>\n",
       "    </tr>\n",
       "    <tr>\n",
       "      <th>Cylinders</th>\n",
       "      <td>-0.775396</td>\n",
       "      <td>1.000000</td>\n",
       "      <td>0.950721</td>\n",
       "      <td>0.839557</td>\n",
       "      <td>0.896017</td>\n",
       "      <td>-0.505419</td>\n",
       "      <td>-0.348746</td>\n",
       "      <td>-0.562543</td>\n",
       "    </tr>\n",
       "    <tr>\n",
       "      <th>Displacement</th>\n",
       "      <td>-0.804203</td>\n",
       "      <td>0.950721</td>\n",
       "      <td>1.000000</td>\n",
       "      <td>0.894222</td>\n",
       "      <td>0.932824</td>\n",
       "      <td>-0.543684</td>\n",
       "      <td>-0.370164</td>\n",
       "      <td>-0.609409</td>\n",
       "    </tr>\n",
       "    <tr>\n",
       "      <th>Horsepower</th>\n",
       "      <td>-0.771974</td>\n",
       "      <td>0.839557</td>\n",
       "      <td>0.894222</td>\n",
       "      <td>1.000000</td>\n",
       "      <td>0.861087</td>\n",
       "      <td>-0.684857</td>\n",
       "      <td>-0.412164</td>\n",
       "      <td>-0.453363</td>\n",
       "    </tr>\n",
       "    <tr>\n",
       "      <th>Weight</th>\n",
       "      <td>-0.831741</td>\n",
       "      <td>0.896017</td>\n",
       "      <td>0.932824</td>\n",
       "      <td>0.861087</td>\n",
       "      <td>1.000000</td>\n",
       "      <td>-0.417457</td>\n",
       "      <td>-0.306564</td>\n",
       "      <td>-0.581024</td>\n",
       "    </tr>\n",
       "    <tr>\n",
       "      <th>Acceleration</th>\n",
       "      <td>0.420289</td>\n",
       "      <td>-0.505419</td>\n",
       "      <td>-0.543684</td>\n",
       "      <td>-0.684857</td>\n",
       "      <td>-0.417457</td>\n",
       "      <td>1.000000</td>\n",
       "      <td>0.288137</td>\n",
       "      <td>0.205873</td>\n",
       "    </tr>\n",
       "    <tr>\n",
       "      <th>Model Year</th>\n",
       "      <td>0.579267</td>\n",
       "      <td>-0.348746</td>\n",
       "      <td>-0.370164</td>\n",
       "      <td>-0.412164</td>\n",
       "      <td>-0.306564</td>\n",
       "      <td>0.288137</td>\n",
       "      <td>1.000000</td>\n",
       "      <td>0.180662</td>\n",
       "    </tr>\n",
       "    <tr>\n",
       "      <th>Origin</th>\n",
       "      <td>0.563450</td>\n",
       "      <td>-0.562543</td>\n",
       "      <td>-0.609409</td>\n",
       "      <td>-0.453363</td>\n",
       "      <td>-0.581024</td>\n",
       "      <td>0.205873</td>\n",
       "      <td>0.180662</td>\n",
       "      <td>1.000000</td>\n",
       "    </tr>\n",
       "  </tbody>\n",
       "</table>\n",
       "</div>"
      ],
      "text/plain": [
       "                   MPG  Cylinders  Displacement  Horsepower    Weight  \\\n",
       "MPG           1.000000  -0.775396     -0.804203   -0.771974 -0.831741   \n",
       "Cylinders    -0.775396   1.000000      0.950721    0.839557  0.896017   \n",
       "Displacement -0.804203   0.950721      1.000000    0.894222  0.932824   \n",
       "Horsepower   -0.771974   0.839557      0.894222    1.000000  0.861087   \n",
       "Weight       -0.831741   0.896017      0.932824    0.861087  1.000000   \n",
       "Acceleration  0.420289  -0.505419     -0.543684   -0.684857 -0.417457   \n",
       "Model Year    0.579267  -0.348746     -0.370164   -0.412164 -0.306564   \n",
       "Origin        0.563450  -0.562543     -0.609409   -0.453363 -0.581024   \n",
       "\n",
       "              Acceleration  Model Year    Origin  \n",
       "MPG               0.420289    0.579267  0.563450  \n",
       "Cylinders        -0.505419   -0.348746 -0.562543  \n",
       "Displacement     -0.543684   -0.370164 -0.609409  \n",
       "Horsepower       -0.684857   -0.412164 -0.453363  \n",
       "Weight           -0.417457   -0.306564 -0.581024  \n",
       "Acceleration      1.000000    0.288137  0.205873  \n",
       "Model Year        0.288137    1.000000  0.180662  \n",
       "Origin            0.205873    0.180662  1.000000  "
      ]
     },
     "execution_count": 576,
     "metadata": {},
     "output_type": "execute_result"
    }
   ],
   "source": [
    "df.corr()"
   ]
  },
  {
   "cell_type": "markdown",
   "metadata": {},
   "source": [
    "# 상관관계가 높은 기존 컬럼들을 곱해 새로운 열 추가"
   ]
  },
  {
   "cell_type": "code",
   "execution_count": 577,
   "metadata": {},
   "outputs": [],
   "source": [
    "# # 음의 상관관계 조합\n",
    "df['Horsepower*Weight'] = df['Horsepower']*df['Weight']\n",
    "df['Horsepower*Cylinders'] = df['Horsepower']*df['Cylinders']\n",
    "df['Horsepower*Displacement'] = df['Horsepower']*df['Displacement']\n",
    "df['Cylinders*Displacement'] = df['Cylinders']*df['Displacement']\n",
    "df['Cylinders*Weight'] = df['Cylinders']*df['Weight']\n",
    "df['Displacemen*Weight'] = df['Displacement']*df['Weight']\n",
    "\n",
    "\n",
    "# df['Horsepower*Weight*Cylinders'] = df['Horsepower']*df['Weight']*df['Cylinders']\n",
    "# df['Horsepower*Weight*Displacement'] = df['Horsepower']*df['Weight']*df['Displacement']\n",
    "# df['Displacement*Weight*Cylinders'] = df['Weight']*df['Displacement']*df['Cylinders']\n",
    "# df['Horsepower*Weight*Cylinders*Displacement'] = df['Horsepower']*df['Weight']*df['Cylinders']*df['Displacement']\n",
    "\n",
    "# # # 양의 상관관계 조합\n",
    "# # df['Model Year*Origin']=df['Model Year']*df['Origin']\n",
    "\n",
    "\n",
    "# # 독릭변수끼리 상관관계 적은 요소 조합\n",
    "# # df['Model Year*Horsepower'] = df['Model Year']*df['Horsepower']\n",
    "# # df['Model Year*Weight'] = df['Model Year']*df['Weight']\n",
    "# # df['Model Year*Cylinders'] = df['Model Year']*df['Cylinders']\n",
    "# # df['Model Year*Displacement'] = df['Model Year']*df['Displacement']"
   ]
  },
  {
   "cell_type": "code",
   "execution_count": 578,
   "metadata": {},
   "outputs": [],
   "source": [
    "# df.corr()"
   ]
  },
  {
   "cell_type": "markdown",
   "metadata": {},
   "source": [
    "# 인코딩"
   ]
  },
  {
   "cell_type": "code",
   "execution_count": 579,
   "metadata": {},
   "outputs": [],
   "source": [
    "from sklearn.preprocessing import LabelEncoder\n",
    "le = LabelEncoder()\n",
    "le.fit(df['car name'])\n",
    "label = le.transform(df['car name'])\n",
    "df['car name'] = label"
   ]
  },
  {
   "cell_type": "code",
   "execution_count": 580,
   "metadata": {},
   "outputs": [
    {
     "name": "stdout",
     "output_type": "stream",
     "text": [
      "<class 'pandas.core.frame.DataFrame'>\n",
      "RangeIndex: 398 entries, 0 to 397\n",
      "Data columns (total 15 columns):\n",
      " #   Column                   Non-Null Count  Dtype  \n",
      "---  ------                   --------------  -----  \n",
      " 0   MPG                      398 non-null    float64\n",
      " 1   Cylinders                398 non-null    int64  \n",
      " 2   Displacement             398 non-null    float64\n",
      " 3   Horsepower               398 non-null    float64\n",
      " 4   Weight                   398 non-null    float64\n",
      " 5   Acceleration             398 non-null    float64\n",
      " 6   Model Year               398 non-null    int64  \n",
      " 7   Origin                   398 non-null    int64  \n",
      " 8   car name                 398 non-null    int64  \n",
      " 9   Horsepower*Weight        398 non-null    float64\n",
      " 10  Horsepower*Cylinders     398 non-null    float64\n",
      " 11  Horsepower*Displacement  398 non-null    float64\n",
      " 12  Cylinders*Displacement   398 non-null    float64\n",
      " 13  Cylinders*Weight         398 non-null    float64\n",
      " 14  Displacemen*Weight       398 non-null    float64\n",
      "dtypes: float64(11), int64(4)\n",
      "memory usage: 46.8 KB\n"
     ]
    }
   ],
   "source": [
    "df.info()"
   ]
  },
  {
   "cell_type": "code",
   "execution_count": 581,
   "metadata": {},
   "outputs": [
    {
     "data": {
      "text/plain": [
       "MPG                        1.000000\n",
       "Cylinders                 -0.775396\n",
       "Displacement              -0.804203\n",
       "Horsepower                -0.771974\n",
       "Weight                    -0.831741\n",
       "Acceleration               0.420289\n",
       "Model Year                 0.579267\n",
       "Origin                     0.563450\n",
       "car name                   0.273936\n",
       "Horsepower*Weight         -0.785081\n",
       "Horsepower*Cylinders      -0.773275\n",
       "Horsepower*Displacement   -0.746388\n",
       "Cylinders*Displacement    -0.781124\n",
       "Cylinders*Weight          -0.805909\n",
       "Displacemen*Weight        -0.791493\n",
       "dtype: float64"
      ]
     },
     "execution_count": 581,
     "metadata": {},
     "output_type": "execute_result"
    }
   ],
   "source": [
    "df.corrwith(df['MPG'])"
   ]
  },
  {
   "cell_type": "code",
   "execution_count": 582,
   "metadata": {},
   "outputs": [],
   "source": [
    "# df.drop('car name',axis=1, inplace=True)"
   ]
  },
  {
   "cell_type": "markdown",
   "metadata": {},
   "source": [
    "# 스케일링"
   ]
  },
  {
   "cell_type": "code",
   "execution_count": 583,
   "metadata": {},
   "outputs": [],
   "source": [
    "input_data = df.drop(['MPG'],axis=1).values\n",
    "target = df['MPG'].values"
   ]
  },
  {
   "cell_type": "code",
   "execution_count": 584,
   "metadata": {},
   "outputs": [],
   "source": [
    "# 1. 4가지 스케일러\n",
    "from sklearn.preprocessing import StandardScaler\n",
    "from sklearn.preprocessing import MinMaxScaler\n",
    "from sklearn.preprocessing import RobustScaler\n",
    "from sklearn.preprocessing import Normalizer\n",
    "\n",
    "\n",
    "def Scaler(Scaler, input_data):\n",
    "    scaler = Scaler()   \n",
    "    input_data = scaler.fit_transform(input_data)\n",
    "    return input_data\n",
    "\n",
    "input_data_Standard =Scaler(StandardScaler,input_data)\n",
    "input_data_MinMax = Scaler(MinMaxScaler,input_data)\n",
    "input_data_Robust = Scaler(RobustScaler,input_data)\n",
    "input_data_Normal = Scaler(Normalizer,input_data)"
   ]
  },
  {
   "cell_type": "markdown",
   "metadata": {},
   "source": [
    "# train, test 나누기"
   ]
  },
  {
   "cell_type": "code",
   "execution_count": 585,
   "metadata": {},
   "outputs": [],
   "source": [
    "from sklearn.model_selection import train_test_split\n",
    "# 스탠다드\n",
    "train_X,test_X,train_y,test_y = train_test_split(input_data,target,test_size=0.2,random_state = 42)"
   ]
  },
  {
   "cell_type": "code",
   "execution_count": 586,
   "metadata": {},
   "outputs": [],
   "source": [
    "# from sklearn.utils import all_estimators\n",
    "# from sklearn.ensemble import RandomForestRegressor\n",
    "# from sklearn.metrics import *\n",
    "# import math\n",
    "# # 경고무시\n",
    "# import warnings\n",
    "# warnings.filterwarnings('ignore')\n",
    "\n",
    "\n",
    "# # sklearn의 모든 필터타입 분류기 호출 -> list(이름,객체) \n",
    "# model_all = all_estimators(type_filter='regressor')\n",
    "\n",
    "# result = []\n",
    "# for name, model in model_all:\n",
    "#     try:\n",
    "#         md = model()\n",
    "#         md.fit(train_X,train_y)\n",
    "#         score = md.score(test_X, test_y)\n",
    "#         RMSE = math.sqrt(mean_squared_error(test_y, md.predict(test_X)))\n",
    "#         result.append((name, score, RMSE))\n",
    "#     except:\n",
    "#         pass"
   ]
  },
  {
   "cell_type": "code",
   "execution_count": 587,
   "metadata": {},
   "outputs": [],
   "source": [
    "# result"
   ]
  },
  {
   "cell_type": "code",
   "execution_count": 588,
   "metadata": {},
   "outputs": [
    {
     "name": "stdout",
     "output_type": "stream",
     "text": [
      "[기본 설정]-------------------------\n",
      "train 점수: 0.9812569923572727\n",
      "test  점수: 0.9254501684426544\n"
     ]
    }
   ],
   "source": [
    "from sklearn.ensemble import RandomForestRegressor\n",
    "# 모델 생성\n",
    "model_RF = RandomForestRegressor()\n",
    "model_RF.fit(train_X,train_y)\n",
    "\n",
    "print('[기본 설정]-------------------------')\n",
    "print('train 점수:',model_RF.score(train_X,train_y))\n",
    "print('test  점수:',model_RF.score(test_X,test_y))\n"
   ]
  },
  {
   "cell_type": "code",
   "execution_count": 589,
   "metadata": {},
   "outputs": [],
   "source": [
    "# from sklearn.model_selection import GridSearchCV \n",
    "# # Grid_Search\n",
    "# param_range = [3,6,9,12,15]\n",
    "# param_grid = { \n",
    "#     'max_depth':param_range,\n",
    "#     'max_features':param_range,\n",
    "#     'min_samples_split': param_range,\n",
    "# }\n",
    "\n",
    "# GS = GridSearchCV(\n",
    "#     estimator = model_RF, \n",
    "#     param_grid = param_grid,\n",
    "#     cv = 5,\n",
    "#     scoring='accuracy',\n",
    "#     return_train_score = True\n",
    "# )"
   ]
  },
  {
   "cell_type": "code",
   "execution_count": 590,
   "metadata": {},
   "outputs": [],
   "source": [
    "# GS.fit(train_X,train_y)"
   ]
  },
  {
   "cell_type": "code",
   "execution_count": 591,
   "metadata": {},
   "outputs": [],
   "source": [
    "# # 최적의 파라미터 확인\n",
    "# print(GS.best_score_)\n",
    "# print(GS.best_estimator_)\n",
    "# print(GS.best_params_)"
   ]
  },
  {
   "cell_type": "code",
   "execution_count": 592,
   "metadata": {},
   "outputs": [
    {
     "name": "stdout",
     "output_type": "stream",
     "text": [
      "[RF 스케일링 전]-------------------------\n",
      "train 점수: 0.9787941104319483\n",
      "test  점수: 0.9281010016586787\n",
      "[HG 스케일링 전]-------------------------\n",
      "train 점수: 0.9729121654163098\n",
      "test  점수: 0.9208419120891993\n"
     ]
    }
   ],
   "source": [
    "from sklearn.ensemble import HistGradientBoostingRegressor\n",
    "train_X,test_X,train_y,test_y = train_test_split(input_data,target,test_size=0.2,random_state = 42)\n",
    "\n",
    "# 모델 생성\n",
    "model_RF = RandomForestRegressor()\n",
    "model_HG = HistGradientBoostingRegressor()\n",
    "\n",
    "model_RF.fit(train_X,train_y)\n",
    "model_HG.fit(train_X,train_y)\n",
    "\n",
    "print('[RF 스케일링 전]-------------------------')\n",
    "print('train 점수:',model_RF.score(train_X,train_y))\n",
    "print('test  점수:',model_RF.score(test_X,test_y))\n",
    "print('[HG 스케일링 전]-------------------------')\n",
    "print('train 점수:',model_HG.score(train_X,train_y))\n",
    "print('test  점수:',model_HG.score(test_X,test_y))"
   ]
  },
  {
   "cell_type": "code",
   "execution_count": 593,
   "metadata": {},
   "outputs": [
    {
     "name": "stdout",
     "output_type": "stream",
     "text": [
      "[RF StandardScaler]-------------------------\n",
      "train 점수: 0.9806198092340226\n",
      "test  점수: 0.9244151425302329\n",
      "[HG StandardScaler]-------------------------\n",
      "train 점수: 0.9729121654163098\n",
      "test  점수: 0.9208419120891993\n"
     ]
    }
   ],
   "source": [
    "input_data_Standard =Scaler(StandardScaler,input_data)\n",
    "\n",
    "train_X,test_X,train_y,test_y = train_test_split(input_data_Standard,target,test_size=0.2,random_state = 42)\n",
    "\n",
    "# 모델 생성\n",
    "model_RF = RandomForestRegressor()\n",
    "model_HG = HistGradientBoostingRegressor()\n",
    "\n",
    "model_RF.fit(train_X,train_y)\n",
    "model_HG.fit(train_X,train_y)\n",
    "\n",
    "print('[RF StandardScaler]-------------------------')\n",
    "print('train 점수:',model_RF.score(train_X,train_y))\n",
    "print('test  점수:',model_RF.score(test_X,test_y))\n",
    "print('[HG StandardScaler]-------------------------')\n",
    "print('train 점수:',model_HG.score(train_X,train_y))\n",
    "print('test  점수:',model_HG.score(test_X,test_y))"
   ]
  },
  {
   "cell_type": "code",
   "execution_count": 594,
   "metadata": {},
   "outputs": [
    {
     "name": "stdout",
     "output_type": "stream",
     "text": [
      "[RF RobustScaler]-------------------------\n",
      "train 점수: 0.9802486934683353\n",
      "test  점수: 0.9232356789451971\n",
      "[HG RobustScaler]-------------------------\n",
      "train 점수: 0.9729121654163098\n",
      "test  점수: 0.9208419120891993\n"
     ]
    }
   ],
   "source": [
    "input_data_Robust = Scaler(RobustScaler,input_data)\n",
    "train_X,test_X,train_y,test_y = train_test_split(input_data_Robust,target,test_size=0.2,random_state = 42)\n",
    "# 모델 생성\n",
    "model_RF = RandomForestRegressor()\n",
    "model_HG = HistGradientBoostingRegressor()\n",
    "\n",
    "model_RF.fit(train_X,train_y)\n",
    "model_HG.fit(train_X,train_y)\n",
    "\n",
    "print('[RF RobustScaler]-------------------------')\n",
    "print('train 점수:',model_RF.score(train_X,train_y))\n",
    "print('test  점수:',model_RF.score(test_X,test_y))\n",
    "print('[HG RobustScaler]-------------------------')\n",
    "print('train 점수:',model_HG.score(train_X,train_y))\n",
    "print('test  점수:',model_HG.score(test_X,test_y))"
   ]
  },
  {
   "cell_type": "code",
   "execution_count": 595,
   "metadata": {},
   "outputs": [
    {
     "name": "stdout",
     "output_type": "stream",
     "text": [
      "[RF Normalizer]-------------------------\n",
      "train 점수: 0.9660008423482382\n",
      "test  점수: 0.8334204924051724\n",
      "[HG Normalizer]-------------------------\n",
      "train 점수: 0.9622892546828419\n",
      "test  점수: 0.823955030528458\n"
     ]
    }
   ],
   "source": [
    "input_data_Normal = Scaler(Normalizer,input_data)\n",
    "train_X,test_X,train_y,test_y = train_test_split(input_data_Normal,target,test_size=0.2,random_state = 42)\n",
    "# 모델 생성\n",
    "model_RF = RandomForestRegressor()\n",
    "model_HG = HistGradientBoostingRegressor()\n",
    "\n",
    "model_RF.fit(train_X,train_y)\n",
    "model_HG.fit(train_X,train_y)\n",
    "\n",
    "print('[RF Normalizer]-------------------------')\n",
    "print('train 점수:',model_RF.score(train_X,train_y))\n",
    "print('test  점수:',model_RF.score(test_X,test_y))\n",
    "print('[HG Normalizer]-------------------------')\n",
    "print('train 점수:',model_HG.score(train_X,train_y))\n",
    "print('test  점수:',model_HG.score(test_X,test_y))"
   ]
  },
  {
   "cell_type": "code",
   "execution_count": 596,
   "metadata": {},
   "outputs": [
    {
     "name": "stdout",
     "output_type": "stream",
     "text": [
      "[RF MinMaxScaler]-------------------------\n",
      "train 점수: 0.9803898637401648\n",
      "test  점수: 0.9224052562524186\n",
      "[HG MinMaxScaler]-------------------------\n",
      "train 점수: 0.9729121654163098\n",
      "test  점수: 0.9208419120891993\n"
     ]
    }
   ],
   "source": [
    "input_data_MinMax = Scaler(MinMaxScaler,input_data)\n",
    "\n",
    "train_X,test_X,train_y,test_y = train_test_split(input_data_MinMax,target,test_size=0.2,random_state = 42)\n",
    "\n",
    "# 모델 생성\n",
    "model_RF = RandomForestRegressor()\n",
    "model_HG = HistGradientBoostingRegressor()\n",
    "\n",
    "model_RF.fit(train_X,train_y)\n",
    "model_HG.fit(train_X,train_y)\n",
    "\n",
    "print('[RF MinMaxScaler]-------------------------')\n",
    "print('train 점수:',model_RF.score(train_X,train_y))\n",
    "print('test  점수:',model_RF.score(test_X,test_y))\n",
    "print('[HG MinMaxScaler]-------------------------')\n",
    "print('train 점수:',model_HG.score(train_X,train_y))\n",
    "print('test  점수:',model_HG.score(test_X,test_y))"
   ]
  },
  {
   "cell_type": "code",
   "execution_count": 597,
   "metadata": {},
   "outputs": [],
   "source": [
    "from keras import Sequential\n",
    "from keras.layers import Dense\n",
    "\n",
    "model = Sequential(name = 'auto_mpg')"
   ]
  },
  {
   "cell_type": "code",
   "execution_count": 598,
   "metadata": {},
   "outputs": [],
   "source": [
    "l1 = Dense(10,activation = 'relu',input_shape=(14,))\n",
    "l2 = Dense(100,activation = 'relu')\n",
    "l3 = Dense(100,activation = 'relu')\n",
    "l4 = Dense(1, activation = 'relu')"
   ]
  },
  {
   "cell_type": "code",
   "execution_count": 599,
   "metadata": {},
   "outputs": [],
   "source": [
    "model.add(l1)\n",
    "model.add(l2)\n",
    "model.add(l3)\n",
    "model.add(l4)"
   ]
  },
  {
   "cell_type": "code",
   "execution_count": 600,
   "metadata": {},
   "outputs": [
    {
     "name": "stdout",
     "output_type": "stream",
     "text": [
      "Model: \"auto_mpg\"\n",
      "_________________________________________________________________\n",
      " Layer (type)                Output Shape              Param #   \n",
      "=================================================================\n",
      " dense_62 (Dense)            (None, 10)                150       \n",
      "                                                                 \n",
      " dense_63 (Dense)            (None, 100)               1100      \n",
      "                                                                 \n",
      " dense_64 (Dense)            (None, 100)               10100     \n",
      "                                                                 \n",
      " dense_65 (Dense)            (None, 1)                 101       \n",
      "                                                                 \n",
      "=================================================================\n",
      "Total params: 11,451\n",
      "Trainable params: 11,451\n",
      "Non-trainable params: 0\n",
      "_________________________________________________________________\n"
     ]
    }
   ],
   "source": [
    "model.summary()"
   ]
  },
  {
   "cell_type": "code",
   "execution_count": 601,
   "metadata": {},
   "outputs": [],
   "source": [
    "model.compile(loss='mse', \n",
    "            optimizer='adam', \n",
    "            metrics=['mse'])"
   ]
  },
  {
   "cell_type": "code",
   "execution_count": 602,
   "metadata": {},
   "outputs": [
    {
     "name": "stdout",
     "output_type": "stream",
     "text": [
      "Epoch 1/100\n",
      "10/10 [==============================] - 1s 3ms/step - loss: 608.0236 - mse: 608.0236\n",
      "Epoch 2/100\n",
      "10/10 [==============================] - 0s 4ms/step - loss: 572.4810 - mse: 572.4810\n",
      "Epoch 3/100\n",
      "10/10 [==============================] - 0s 4ms/step - loss: 517.6899 - mse: 517.6899\n",
      "Epoch 4/100\n",
      "10/10 [==============================] - 0s 4ms/step - loss: 429.7365 - mse: 429.7365\n",
      "Epoch 5/100\n",
      "10/10 [==============================] - 0s 4ms/step - loss: 299.9243 - mse: 299.9243\n",
      "Epoch 6/100\n",
      "10/10 [==============================] - 0s 4ms/step - loss: 186.1262 - mse: 186.1262\n",
      "Epoch 7/100\n",
      "10/10 [==============================] - 0s 4ms/step - loss: 128.2064 - mse: 128.2064\n",
      "Epoch 8/100\n",
      "10/10 [==============================] - 0s 4ms/step - loss: 95.8645 - mse: 95.8645\n",
      "Epoch 9/100\n",
      "10/10 [==============================] - 0s 4ms/step - loss: 66.8102 - mse: 66.8102\n",
      "Epoch 10/100\n",
      "10/10 [==============================] - 0s 4ms/step - loss: 48.8974 - mse: 48.8974\n",
      "Epoch 11/100\n",
      "10/10 [==============================] - 0s 4ms/step - loss: 37.7581 - mse: 37.7581\n",
      "Epoch 12/100\n",
      "10/10 [==============================] - 0s 4ms/step - loss: 32.3716 - mse: 32.3716\n",
      "Epoch 13/100\n",
      "10/10 [==============================] - 0s 3ms/step - loss: 29.5251 - mse: 29.5251\n",
      "Epoch 14/100\n",
      "10/10 [==============================] - 0s 4ms/step - loss: 27.9107 - mse: 27.9107\n",
      "Epoch 15/100\n",
      "10/10 [==============================] - 0s 4ms/step - loss: 26.5681 - mse: 26.5681\n",
      "Epoch 16/100\n",
      "10/10 [==============================] - 0s 3ms/step - loss: 25.4702 - mse: 25.4702\n",
      "Epoch 17/100\n",
      "10/10 [==============================] - 0s 4ms/step - loss: 24.3344 - mse: 24.3344\n",
      "Epoch 18/100\n",
      "10/10 [==============================] - 0s 4ms/step - loss: 23.8287 - mse: 23.8287\n",
      "Epoch 19/100\n",
      "10/10 [==============================] - 0s 4ms/step - loss: 22.5068 - mse: 22.5068\n",
      "Epoch 20/100\n",
      "10/10 [==============================] - 0s 4ms/step - loss: 21.9001 - mse: 21.9001\n",
      "Epoch 21/100\n",
      "10/10 [==============================] - 0s 4ms/step - loss: 21.1408 - mse: 21.1408\n",
      "Epoch 22/100\n",
      "10/10 [==============================] - 0s 4ms/step - loss: 20.5187 - mse: 20.5187\n",
      "Epoch 23/100\n",
      "10/10 [==============================] - 0s 4ms/step - loss: 19.7417 - mse: 19.7417\n",
      "Epoch 24/100\n",
      "10/10 [==============================] - 0s 4ms/step - loss: 19.2211 - mse: 19.2211\n",
      "Epoch 25/100\n",
      "10/10 [==============================] - 0s 3ms/step - loss: 18.6600 - mse: 18.6600\n",
      "Epoch 26/100\n",
      "10/10 [==============================] - 0s 4ms/step - loss: 18.4850 - mse: 18.4850\n",
      "Epoch 27/100\n",
      "10/10 [==============================] - 0s 3ms/step - loss: 17.6809 - mse: 17.6809\n",
      "Epoch 28/100\n",
      "10/10 [==============================] - 0s 4ms/step - loss: 17.2088 - mse: 17.2088\n",
      "Epoch 29/100\n",
      "10/10 [==============================] - 0s 4ms/step - loss: 16.7724 - mse: 16.7724\n",
      "Epoch 30/100\n",
      "10/10 [==============================] - 0s 3ms/step - loss: 16.3982 - mse: 16.3982\n",
      "Epoch 31/100\n",
      "10/10 [==============================] - 0s 3ms/step - loss: 16.0136 - mse: 16.0136\n",
      "Epoch 32/100\n",
      "10/10 [==============================] - 0s 4ms/step - loss: 15.8149 - mse: 15.8149\n",
      "Epoch 33/100\n",
      "10/10 [==============================] - 0s 4ms/step - loss: 15.1850 - mse: 15.1850\n",
      "Epoch 34/100\n",
      "10/10 [==============================] - 0s 4ms/step - loss: 14.9912 - mse: 14.9912\n",
      "Epoch 35/100\n",
      "10/10 [==============================] - 0s 4ms/step - loss: 14.6456 - mse: 14.6456\n",
      "Epoch 36/100\n",
      "10/10 [==============================] - 0s 5ms/step - loss: 14.2098 - mse: 14.2098\n",
      "Epoch 37/100\n",
      "10/10 [==============================] - 0s 5ms/step - loss: 14.1916 - mse: 14.1916\n",
      "Epoch 38/100\n",
      "10/10 [==============================] - 0s 7ms/step - loss: 13.7901 - mse: 13.7901\n",
      "Epoch 39/100\n",
      "10/10 [==============================] - 0s 6ms/step - loss: 13.5284 - mse: 13.5284\n",
      "Epoch 40/100\n",
      "10/10 [==============================] - 0s 5ms/step - loss: 13.2388 - mse: 13.2388\n",
      "Epoch 41/100\n",
      "10/10 [==============================] - 0s 4ms/step - loss: 13.0537 - mse: 13.0537\n",
      "Epoch 42/100\n",
      "10/10 [==============================] - 0s 4ms/step - loss: 12.7732 - mse: 12.7732\n",
      "Epoch 43/100\n",
      "10/10 [==============================] - 0s 4ms/step - loss: 12.5846 - mse: 12.5846\n",
      "Epoch 44/100\n",
      "10/10 [==============================] - 0s 3ms/step - loss: 12.4424 - mse: 12.4424\n",
      "Epoch 45/100\n",
      "10/10 [==============================] - 0s 4ms/step - loss: 12.2689 - mse: 12.2689\n",
      "Epoch 46/100\n",
      "10/10 [==============================] - 0s 4ms/step - loss: 12.0457 - mse: 12.0457\n",
      "Epoch 47/100\n",
      "10/10 [==============================] - 0s 4ms/step - loss: 11.8942 - mse: 11.8942\n",
      "Epoch 48/100\n",
      "10/10 [==============================] - 0s 4ms/step - loss: 11.7402 - mse: 11.7402\n",
      "Epoch 49/100\n",
      "10/10 [==============================] - 0s 5ms/step - loss: 11.8373 - mse: 11.8373\n",
      "Epoch 50/100\n",
      "10/10 [==============================] - 0s 5ms/step - loss: 11.4197 - mse: 11.4197\n",
      "Epoch 51/100\n",
      "10/10 [==============================] - 0s 6ms/step - loss: 11.4374 - mse: 11.4374\n",
      "Epoch 52/100\n",
      "10/10 [==============================] - 0s 7ms/step - loss: 11.4618 - mse: 11.4618\n",
      "Epoch 53/100\n",
      "10/10 [==============================] - 0s 5ms/step - loss: 11.0675 - mse: 11.0675\n",
      "Epoch 54/100\n",
      "10/10 [==============================] - 0s 4ms/step - loss: 10.9529 - mse: 10.9529\n",
      "Epoch 55/100\n",
      "10/10 [==============================] - 0s 4ms/step - loss: 10.9538 - mse: 10.9538\n",
      "Epoch 56/100\n",
      "10/10 [==============================] - 0s 4ms/step - loss: 10.8184 - mse: 10.8184\n",
      "Epoch 57/100\n",
      "10/10 [==============================] - 0s 4ms/step - loss: 10.7559 - mse: 10.7559\n",
      "Epoch 58/100\n",
      "10/10 [==============================] - 0s 3ms/step - loss: 10.7395 - mse: 10.7395\n",
      "Epoch 59/100\n",
      "10/10 [==============================] - 0s 4ms/step - loss: 10.5068 - mse: 10.5068\n",
      "Epoch 60/100\n",
      "10/10 [==============================] - 0s 4ms/step - loss: 10.4400 - mse: 10.4400\n",
      "Epoch 61/100\n",
      "10/10 [==============================] - 0s 3ms/step - loss: 10.5050 - mse: 10.5050\n",
      "Epoch 62/100\n",
      "10/10 [==============================] - 0s 3ms/step - loss: 10.4118 - mse: 10.4118\n",
      "Epoch 63/100\n",
      "10/10 [==============================] - 0s 4ms/step - loss: 10.2265 - mse: 10.2265\n",
      "Epoch 64/100\n",
      "10/10 [==============================] - 0s 3ms/step - loss: 10.2269 - mse: 10.2269\n",
      "Epoch 65/100\n",
      "10/10 [==============================] - 0s 3ms/step - loss: 10.1964 - mse: 10.1964\n",
      "Epoch 66/100\n",
      "10/10 [==============================] - 0s 4ms/step - loss: 9.8617 - mse: 9.8617\n",
      "Epoch 67/100\n",
      "10/10 [==============================] - 0s 3ms/step - loss: 9.8516 - mse: 9.8516\n",
      "Epoch 68/100\n",
      "10/10 [==============================] - 0s 3ms/step - loss: 9.7696 - mse: 9.7696\n",
      "Epoch 69/100\n",
      "10/10 [==============================] - 0s 4ms/step - loss: 9.7296 - mse: 9.7296\n",
      "Epoch 70/100\n",
      "10/10 [==============================] - 0s 4ms/step - loss: 9.6315 - mse: 9.6315\n",
      "Epoch 71/100\n",
      "10/10 [==============================] - 0s 3ms/step - loss: 9.5947 - mse: 9.5947\n",
      "Epoch 72/100\n",
      "10/10 [==============================] - 0s 3ms/step - loss: 9.5676 - mse: 9.5676\n",
      "Epoch 73/100\n",
      "10/10 [==============================] - 0s 4ms/step - loss: 9.4913 - mse: 9.4913\n",
      "Epoch 74/100\n",
      "10/10 [==============================] - 0s 3ms/step - loss: 9.4873 - mse: 9.4873\n",
      "Epoch 75/100\n",
      "10/10 [==============================] - 0s 3ms/step - loss: 9.4135 - mse: 9.4135\n",
      "Epoch 76/100\n",
      "10/10 [==============================] - 0s 3ms/step - loss: 9.3896 - mse: 9.3896\n",
      "Epoch 77/100\n",
      "10/10 [==============================] - 0s 4ms/step - loss: 9.3311 - mse: 9.3311\n",
      "Epoch 78/100\n",
      "10/10 [==============================] - 0s 6ms/step - loss: 9.2938 - mse: 9.2938\n",
      "Epoch 79/100\n",
      "10/10 [==============================] - 0s 5ms/step - loss: 9.1911 - mse: 9.1911\n",
      "Epoch 80/100\n",
      "10/10 [==============================] - 0s 3ms/step - loss: 9.2179 - mse: 9.2179\n",
      "Epoch 81/100\n",
      "10/10 [==============================] - 0s 4ms/step - loss: 9.4394 - mse: 9.4394\n",
      "Epoch 82/100\n",
      "10/10 [==============================] - 0s 3ms/step - loss: 9.1867 - mse: 9.1867\n",
      "Epoch 83/100\n",
      "10/10 [==============================] - 0s 6ms/step - loss: 9.1524 - mse: 9.1524\n",
      "Epoch 84/100\n",
      "10/10 [==============================] - 0s 4ms/step - loss: 9.0751 - mse: 9.0751\n",
      "Epoch 85/100\n",
      "10/10 [==============================] - 0s 4ms/step - loss: 8.9461 - mse: 8.9461\n",
      "Epoch 86/100\n",
      "10/10 [==============================] - 0s 3ms/step - loss: 8.9775 - mse: 8.9775\n",
      "Epoch 87/100\n",
      "10/10 [==============================] - 0s 3ms/step - loss: 8.9391 - mse: 8.9391\n",
      "Epoch 88/100\n",
      "10/10 [==============================] - 0s 3ms/step - loss: 8.8726 - mse: 8.8726\n",
      "Epoch 89/100\n",
      "10/10 [==============================] - 0s 3ms/step - loss: 8.8839 - mse: 8.8839\n",
      "Epoch 90/100\n",
      "10/10 [==============================] - 0s 3ms/step - loss: 8.8667 - mse: 8.8667\n",
      "Epoch 91/100\n",
      "10/10 [==============================] - 0s 4ms/step - loss: 8.8971 - mse: 8.8971\n",
      "Epoch 92/100\n",
      "10/10 [==============================] - 0s 3ms/step - loss: 8.8067 - mse: 8.8067\n",
      "Epoch 93/100\n",
      "10/10 [==============================] - 0s 3ms/step - loss: 8.7813 - mse: 8.7813\n",
      "Epoch 94/100\n",
      "10/10 [==============================] - 0s 4ms/step - loss: 8.7723 - mse: 8.7723\n",
      "Epoch 95/100\n",
      "10/10 [==============================] - 0s 5ms/step - loss: 8.6848 - mse: 8.6848\n",
      "Epoch 96/100\n",
      "10/10 [==============================] - 0s 3ms/step - loss: 8.7862 - mse: 8.7862\n",
      "Epoch 97/100\n",
      "10/10 [==============================] - 0s 4ms/step - loss: 8.7301 - mse: 8.7301\n",
      "Epoch 98/100\n",
      "10/10 [==============================] - 0s 3ms/step - loss: 8.6219 - mse: 8.6219\n",
      "Epoch 99/100\n",
      "10/10 [==============================] - 0s 4ms/step - loss: 8.8449 - mse: 8.8449\n",
      "Epoch 100/100\n",
      "10/10 [==============================] - 0s 3ms/step - loss: 8.6440 - mse: 8.6440\n"
     ]
    },
    {
     "data": {
      "text/plain": [
       "<keras.callbacks.History at 0x7fd6414356f0>"
      ]
     },
     "execution_count": 602,
     "metadata": {},
     "output_type": "execute_result"
    }
   ],
   "source": [
    "model.fit(train_X, train_y, epochs =100)"
   ]
  },
  {
   "cell_type": "code",
   "execution_count": 603,
   "metadata": {},
   "outputs": [
    {
     "name": "stdout",
     "output_type": "stream",
     "text": [
      "3/3 [==============================] - 0s 3ms/step - loss: 6.3583 - mse: 6.3583\n"
     ]
    }
   ],
   "source": [
    "loss, accuracy = model.evaluate(test_X, test_y)"
   ]
  },
  {
   "cell_type": "code",
   "execution_count": 604,
   "metadata": {},
   "outputs": [
    {
     "name": "stdout",
     "output_type": "stream",
     "text": [
      "loss = 6.36\n"
     ]
    }
   ],
   "source": [
    "print(\"loss = {:.2f}\".format(loss))"
   ]
  },
  {
   "cell_type": "code",
   "execution_count": null,
   "metadata": {},
   "outputs": [],
   "source": []
  },
  {
   "cell_type": "code",
   "execution_count": null,
   "metadata": {},
   "outputs": [],
   "source": []
  }
 ],
 "metadata": {
  "kernelspec": {
   "display_name": "Python 3.10.5 ('base')",
   "language": "python",
   "name": "python3"
  },
  "language_info": {
   "codemirror_mode": {
    "name": "ipython",
    "version": 3
   },
   "file_extension": ".py",
   "mimetype": "text/x-python",
   "name": "python",
   "nbconvert_exporter": "python",
   "pygments_lexer": "ipython3",
   "version": "3.10.5"
  },
  "orig_nbformat": 4,
  "vscode": {
   "interpreter": {
    "hash": "d4d1e4263499bec80672ea0156c357c1ee493ec2b1c70f0acce89fc37c4a6abe"
   }
  }
 },
 "nbformat": 4,
 "nbformat_minor": 2
}
