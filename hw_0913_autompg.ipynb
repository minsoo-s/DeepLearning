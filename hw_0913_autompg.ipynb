{
 "cells": [
  {
   "cell_type": "code",
   "execution_count": 835,
   "metadata": {},
   "outputs": [],
   "source": [
    "from tensorflow import keras\n",
    "import pandas as pd"
   ]
  },
  {
   "cell_type": "markdown",
   "metadata": {},
   "source": [
    "[auto_mpg 데이터 불러오기]"
   ]
  },
  {
   "cell_type": "code",
   "execution_count": 836,
   "metadata": {},
   "outputs": [],
   "source": [
    "df_origin = pd.read_csv('auto-mpg.csv',sep = '\\s+',header=None)"
   ]
  },
  {
   "cell_type": "code",
   "execution_count": 837,
   "metadata": {},
   "outputs": [],
   "source": [
    "df = df_origin.copy()"
   ]
  },
  {
   "cell_type": "code",
   "execution_count": 838,
   "metadata": {},
   "outputs": [
    {
     "name": "stdout",
     "output_type": "stream",
     "text": [
      "<class 'pandas.core.frame.DataFrame'>\n",
      "RangeIndex: 398 entries, 0 to 397\n",
      "Data columns (total 9 columns):\n",
      " #   Column  Non-Null Count  Dtype  \n",
      "---  ------  --------------  -----  \n",
      " 0   0       398 non-null    float64\n",
      " 1   1       398 non-null    int64  \n",
      " 2   2       398 non-null    float64\n",
      " 3   3       398 non-null    object \n",
      " 4   4       398 non-null    float64\n",
      " 5   5       398 non-null    float64\n",
      " 6   6       398 non-null    int64  \n",
      " 7   7       398 non-null    int64  \n",
      " 8   8       398 non-null    object \n",
      "dtypes: float64(4), int64(3), object(2)\n",
      "memory usage: 28.1+ KB\n"
     ]
    }
   ],
   "source": [
    "df.info()"
   ]
  },
  {
   "cell_type": "code",
   "execution_count": 839,
   "metadata": {},
   "outputs": [],
   "source": [
    "df.columns= ['MPG','Cylinders','Displacement','Horsepower','Weight','Acceleration', 'Model Year', 'Origin','car name']"
   ]
  },
  {
   "cell_type": "code",
   "execution_count": 840,
   "metadata": {},
   "outputs": [
    {
     "data": {
      "text/html": [
       "<div>\n",
       "<style scoped>\n",
       "    .dataframe tbody tr th:only-of-type {\n",
       "        vertical-align: middle;\n",
       "    }\n",
       "\n",
       "    .dataframe tbody tr th {\n",
       "        vertical-align: top;\n",
       "    }\n",
       "\n",
       "    .dataframe thead th {\n",
       "        text-align: right;\n",
       "    }\n",
       "</style>\n",
       "<table border=\"1\" class=\"dataframe\">\n",
       "  <thead>\n",
       "    <tr style=\"text-align: right;\">\n",
       "      <th></th>\n",
       "      <th>MPG</th>\n",
       "      <th>Cylinders</th>\n",
       "      <th>Displacement</th>\n",
       "      <th>Horsepower</th>\n",
       "      <th>Weight</th>\n",
       "      <th>Acceleration</th>\n",
       "      <th>Model Year</th>\n",
       "      <th>Origin</th>\n",
       "      <th>car name</th>\n",
       "    </tr>\n",
       "  </thead>\n",
       "  <tbody>\n",
       "    <tr>\n",
       "      <th>0</th>\n",
       "      <td>18.0</td>\n",
       "      <td>8</td>\n",
       "      <td>307.0</td>\n",
       "      <td>130.0</td>\n",
       "      <td>3504.0</td>\n",
       "      <td>12.0</td>\n",
       "      <td>70</td>\n",
       "      <td>1</td>\n",
       "      <td>chevrolet chevelle malibu</td>\n",
       "    </tr>\n",
       "    <tr>\n",
       "      <th>1</th>\n",
       "      <td>15.0</td>\n",
       "      <td>8</td>\n",
       "      <td>350.0</td>\n",
       "      <td>165.0</td>\n",
       "      <td>3693.0</td>\n",
       "      <td>11.5</td>\n",
       "      <td>70</td>\n",
       "      <td>1</td>\n",
       "      <td>buick skylark 320</td>\n",
       "    </tr>\n",
       "    <tr>\n",
       "      <th>2</th>\n",
       "      <td>18.0</td>\n",
       "      <td>8</td>\n",
       "      <td>318.0</td>\n",
       "      <td>150.0</td>\n",
       "      <td>3436.0</td>\n",
       "      <td>11.0</td>\n",
       "      <td>70</td>\n",
       "      <td>1</td>\n",
       "      <td>plymouth satellite</td>\n",
       "    </tr>\n",
       "    <tr>\n",
       "      <th>3</th>\n",
       "      <td>16.0</td>\n",
       "      <td>8</td>\n",
       "      <td>304.0</td>\n",
       "      <td>150.0</td>\n",
       "      <td>3433.0</td>\n",
       "      <td>12.0</td>\n",
       "      <td>70</td>\n",
       "      <td>1</td>\n",
       "      <td>amc rebel sst</td>\n",
       "    </tr>\n",
       "    <tr>\n",
       "      <th>4</th>\n",
       "      <td>17.0</td>\n",
       "      <td>8</td>\n",
       "      <td>302.0</td>\n",
       "      <td>140.0</td>\n",
       "      <td>3449.0</td>\n",
       "      <td>10.5</td>\n",
       "      <td>70</td>\n",
       "      <td>1</td>\n",
       "      <td>ford torino</td>\n",
       "    </tr>\n",
       "  </tbody>\n",
       "</table>\n",
       "</div>"
      ],
      "text/plain": [
       "    MPG  Cylinders  Displacement Horsepower  Weight  Acceleration  Model Year  \\\n",
       "0  18.0          8         307.0      130.0  3504.0          12.0          70   \n",
       "1  15.0          8         350.0      165.0  3693.0          11.5          70   \n",
       "2  18.0          8         318.0      150.0  3436.0          11.0          70   \n",
       "3  16.0          8         304.0      150.0  3433.0          12.0          70   \n",
       "4  17.0          8         302.0      140.0  3449.0          10.5          70   \n",
       "\n",
       "   Origin                   car name  \n",
       "0       1  chevrolet chevelle malibu  \n",
       "1       1          buick skylark 320  \n",
       "2       1         plymouth satellite  \n",
       "3       1              amc rebel sst  \n",
       "4       1                ford torino  "
      ]
     },
     "execution_count": 840,
     "metadata": {},
     "output_type": "execute_result"
    }
   ],
   "source": [
    "df.head()"
   ]
  },
  {
   "cell_type": "code",
   "execution_count": 841,
   "metadata": {},
   "outputs": [
    {
     "data": {
      "text/plain": [
       "array(['130.0', '165.0', '150.0', '140.0', '198.0', '220.0', '215.0',\n",
       "       '225.0', '190.0', '170.0', '160.0', '95.00', '97.00', '85.00',\n",
       "       '88.00', '46.00', '87.00', '90.00', '113.0', '200.0', '210.0',\n",
       "       '193.0', '?', '100.0', '105.0', '175.0', '153.0', '180.0', '110.0',\n",
       "       '72.00', '86.00', '70.00', '76.00', '65.00', '69.00', '60.00',\n",
       "       '80.00', '54.00', '208.0', '155.0', '112.0', '92.00', '145.0',\n",
       "       '137.0', '158.0', '167.0', '94.00', '107.0', '230.0', '49.00',\n",
       "       '75.00', '91.00', '122.0', '67.00', '83.00', '78.00', '52.00',\n",
       "       '61.00', '93.00', '148.0', '129.0', '96.00', '71.00', '98.00',\n",
       "       '115.0', '53.00', '81.00', '79.00', '120.0', '152.0', '102.0',\n",
       "       '108.0', '68.00', '58.00', '149.0', '89.00', '63.00', '48.00',\n",
       "       '66.00', '139.0', '103.0', '125.0', '133.0', '138.0', '135.0',\n",
       "       '142.0', '77.00', '62.00', '132.0', '84.00', '64.00', '74.00',\n",
       "       '116.0', '82.00'], dtype=object)"
      ]
     },
     "execution_count": 841,
     "metadata": {},
     "output_type": "execute_result"
    }
   ],
   "source": [
    "df['Horsepower'].unique()"
   ]
  },
  {
   "cell_type": "code",
   "execution_count": 842,
   "metadata": {},
   "outputs": [
    {
     "data": {
      "text/plain": [
       "MPG             0\n",
       "Cylinders       0\n",
       "Displacement    0\n",
       "Horsepower      0\n",
       "Weight          0\n",
       "Acceleration    0\n",
       "Model Year      0\n",
       "Origin          0\n",
       "car name        0\n",
       "dtype: int64"
      ]
     },
     "execution_count": 842,
     "metadata": {},
     "output_type": "execute_result"
    }
   ],
   "source": [
    "df.isna().sum()"
   ]
  },
  {
   "cell_type": "markdown",
   "metadata": {},
   "source": [
    "전처리"
   ]
  },
  {
   "cell_type": "code",
   "execution_count": 843,
   "metadata": {},
   "outputs": [],
   "source": [
    "df['Horsepower'].replace('?',0,inplace=True)\n",
    "df['Horsepower'] = pd.to_numeric(df['Horsepower'])"
   ]
  },
  {
   "cell_type": "code",
   "execution_count": 844,
   "metadata": {},
   "outputs": [
    {
     "name": "stdout",
     "output_type": "stream",
     "text": [
      "0    150.0\n",
      "Name: Horsepower, dtype: float64\n",
      "102.89447236180905\n"
     ]
    }
   ],
   "source": [
    "import numpy as np\n",
    "print(df['Horsepower'].mode())\n",
    "print(np.mean(df['Horsepower']))"
   ]
  },
  {
   "cell_type": "code",
   "execution_count": 845,
   "metadata": {},
   "outputs": [],
   "source": [
    "df['Horsepower'].replace(0,102,inplace=True)"
   ]
  },
  {
   "cell_type": "code",
   "execution_count": 846,
   "metadata": {},
   "outputs": [],
   "source": [
    "from sklearn.preprocessing import LabelEncoder, OneHotEncoder"
   ]
  },
  {
   "cell_type": "markdown",
   "metadata": {},
   "source": [
    "인코딩"
   ]
  },
  {
   "cell_type": "code",
   "execution_count": 847,
   "metadata": {},
   "outputs": [],
   "source": [
    "from sklearn.preprocessing import LabelEncoder\n",
    "le = LabelEncoder()\n",
    "le.fit(df['car name'])\n",
    "label = le.transform(df['car name'])\n",
    "df['car name'] = label"
   ]
  },
  {
   "cell_type": "code",
   "execution_count": 848,
   "metadata": {},
   "outputs": [],
   "source": [
    "df.drop('car name',axis=1, inplace=True)"
   ]
  },
  {
   "cell_type": "markdown",
   "metadata": {},
   "source": [
    "data, target 분리"
   ]
  },
  {
   "cell_type": "code",
   "execution_count": 849,
   "metadata": {},
   "outputs": [],
   "source": [
    "target = df['MPG']\n",
    "data = df.drop('MPG',axis=1)"
   ]
  },
  {
   "cell_type": "code",
   "execution_count": 850,
   "metadata": {},
   "outputs": [],
   "source": [
    "from sklearn.preprocessing import MinMaxScaler\n",
    "scaler = MinMaxScaler()\n",
    "data = scaler.fit_transform(data)"
   ]
  },
  {
   "cell_type": "markdown",
   "metadata": {},
   "source": [
    "모델 생성"
   ]
  },
  {
   "cell_type": "code",
   "execution_count": 851,
   "metadata": {},
   "outputs": [],
   "source": [
    "from sklearn.model_selection import train_test_split\n",
    "train_X,test_X,train_y,test_y = train_test_split(data,target,test_size=0.2,random_state=42)"
   ]
  },
  {
   "cell_type": "code",
   "execution_count": 852,
   "metadata": {},
   "outputs": [
    {
     "data": {
      "text/plain": [
       "(318, 7)"
      ]
     },
     "execution_count": 852,
     "metadata": {},
     "output_type": "execute_result"
    }
   ],
   "source": [
    "train_X.shape"
   ]
  },
  {
   "cell_type": "code",
   "execution_count": 853,
   "metadata": {},
   "outputs": [
    {
     "data": {
      "text/html": [
       "<div>\n",
       "<style scoped>\n",
       "    .dataframe tbody tr th:only-of-type {\n",
       "        vertical-align: middle;\n",
       "    }\n",
       "\n",
       "    .dataframe tbody tr th {\n",
       "        vertical-align: top;\n",
       "    }\n",
       "\n",
       "    .dataframe thead th {\n",
       "        text-align: right;\n",
       "    }\n",
       "</style>\n",
       "<table border=\"1\" class=\"dataframe\">\n",
       "  <thead>\n",
       "    <tr style=\"text-align: right;\">\n",
       "      <th></th>\n",
       "      <th>MPG</th>\n",
       "      <th>Cylinders</th>\n",
       "      <th>Displacement</th>\n",
       "      <th>Horsepower</th>\n",
       "      <th>Weight</th>\n",
       "      <th>Acceleration</th>\n",
       "      <th>Model Year</th>\n",
       "      <th>Origin</th>\n",
       "    </tr>\n",
       "  </thead>\n",
       "  <tbody>\n",
       "    <tr>\n",
       "      <th>0</th>\n",
       "      <td>18.0</td>\n",
       "      <td>8</td>\n",
       "      <td>307.0</td>\n",
       "      <td>130.0</td>\n",
       "      <td>3504.0</td>\n",
       "      <td>12.0</td>\n",
       "      <td>70</td>\n",
       "      <td>1</td>\n",
       "    </tr>\n",
       "    <tr>\n",
       "      <th>1</th>\n",
       "      <td>15.0</td>\n",
       "      <td>8</td>\n",
       "      <td>350.0</td>\n",
       "      <td>165.0</td>\n",
       "      <td>3693.0</td>\n",
       "      <td>11.5</td>\n",
       "      <td>70</td>\n",
       "      <td>1</td>\n",
       "    </tr>\n",
       "    <tr>\n",
       "      <th>2</th>\n",
       "      <td>18.0</td>\n",
       "      <td>8</td>\n",
       "      <td>318.0</td>\n",
       "      <td>150.0</td>\n",
       "      <td>3436.0</td>\n",
       "      <td>11.0</td>\n",
       "      <td>70</td>\n",
       "      <td>1</td>\n",
       "    </tr>\n",
       "    <tr>\n",
       "      <th>3</th>\n",
       "      <td>16.0</td>\n",
       "      <td>8</td>\n",
       "      <td>304.0</td>\n",
       "      <td>150.0</td>\n",
       "      <td>3433.0</td>\n",
       "      <td>12.0</td>\n",
       "      <td>70</td>\n",
       "      <td>1</td>\n",
       "    </tr>\n",
       "    <tr>\n",
       "      <th>4</th>\n",
       "      <td>17.0</td>\n",
       "      <td>8</td>\n",
       "      <td>302.0</td>\n",
       "      <td>140.0</td>\n",
       "      <td>3449.0</td>\n",
       "      <td>10.5</td>\n",
       "      <td>70</td>\n",
       "      <td>1</td>\n",
       "    </tr>\n",
       "    <tr>\n",
       "      <th>...</th>\n",
       "      <td>...</td>\n",
       "      <td>...</td>\n",
       "      <td>...</td>\n",
       "      <td>...</td>\n",
       "      <td>...</td>\n",
       "      <td>...</td>\n",
       "      <td>...</td>\n",
       "      <td>...</td>\n",
       "    </tr>\n",
       "    <tr>\n",
       "      <th>393</th>\n",
       "      <td>27.0</td>\n",
       "      <td>4</td>\n",
       "      <td>140.0</td>\n",
       "      <td>86.0</td>\n",
       "      <td>2790.0</td>\n",
       "      <td>15.6</td>\n",
       "      <td>82</td>\n",
       "      <td>1</td>\n",
       "    </tr>\n",
       "    <tr>\n",
       "      <th>394</th>\n",
       "      <td>44.0</td>\n",
       "      <td>4</td>\n",
       "      <td>97.0</td>\n",
       "      <td>52.0</td>\n",
       "      <td>2130.0</td>\n",
       "      <td>24.6</td>\n",
       "      <td>82</td>\n",
       "      <td>2</td>\n",
       "    </tr>\n",
       "    <tr>\n",
       "      <th>395</th>\n",
       "      <td>32.0</td>\n",
       "      <td>4</td>\n",
       "      <td>135.0</td>\n",
       "      <td>84.0</td>\n",
       "      <td>2295.0</td>\n",
       "      <td>11.6</td>\n",
       "      <td>82</td>\n",
       "      <td>1</td>\n",
       "    </tr>\n",
       "    <tr>\n",
       "      <th>396</th>\n",
       "      <td>28.0</td>\n",
       "      <td>4</td>\n",
       "      <td>120.0</td>\n",
       "      <td>79.0</td>\n",
       "      <td>2625.0</td>\n",
       "      <td>18.6</td>\n",
       "      <td>82</td>\n",
       "      <td>1</td>\n",
       "    </tr>\n",
       "    <tr>\n",
       "      <th>397</th>\n",
       "      <td>31.0</td>\n",
       "      <td>4</td>\n",
       "      <td>119.0</td>\n",
       "      <td>82.0</td>\n",
       "      <td>2720.0</td>\n",
       "      <td>19.4</td>\n",
       "      <td>82</td>\n",
       "      <td>1</td>\n",
       "    </tr>\n",
       "  </tbody>\n",
       "</table>\n",
       "<p>398 rows × 8 columns</p>\n",
       "</div>"
      ],
      "text/plain": [
       "      MPG  Cylinders  Displacement  Horsepower  Weight  Acceleration  \\\n",
       "0    18.0          8         307.0       130.0  3504.0          12.0   \n",
       "1    15.0          8         350.0       165.0  3693.0          11.5   \n",
       "2    18.0          8         318.0       150.0  3436.0          11.0   \n",
       "3    16.0          8         304.0       150.0  3433.0          12.0   \n",
       "4    17.0          8         302.0       140.0  3449.0          10.5   \n",
       "..    ...        ...           ...         ...     ...           ...   \n",
       "393  27.0          4         140.0        86.0  2790.0          15.6   \n",
       "394  44.0          4          97.0        52.0  2130.0          24.6   \n",
       "395  32.0          4         135.0        84.0  2295.0          11.6   \n",
       "396  28.0          4         120.0        79.0  2625.0          18.6   \n",
       "397  31.0          4         119.0        82.0  2720.0          19.4   \n",
       "\n",
       "     Model Year  Origin  \n",
       "0            70       1  \n",
       "1            70       1  \n",
       "2            70       1  \n",
       "3            70       1  \n",
       "4            70       1  \n",
       "..          ...     ...  \n",
       "393          82       1  \n",
       "394          82       2  \n",
       "395          82       1  \n",
       "396          82       1  \n",
       "397          82       1  \n",
       "\n",
       "[398 rows x 8 columns]"
      ]
     },
     "execution_count": 853,
     "metadata": {},
     "output_type": "execute_result"
    }
   ],
   "source": [
    "df"
   ]
  },
  {
   "cell_type": "code",
   "execution_count": 854,
   "metadata": {},
   "outputs": [],
   "source": [
    "from keras import Sequential\n",
    "from keras.layers import Dense\n",
    "\n",
    "model = Sequential(name = 'auto_mpg')"
   ]
  },
  {
   "cell_type": "code",
   "execution_count": 855,
   "metadata": {},
   "outputs": [],
   "source": [
    "l1 = Dense(30,activation = 'relu',input_shape=(7,))\n",
    "l2 = Dense(5000,activation = 'relu')\n",
    "l3 = Dense(5000,activation = 'relu')\n",
    "l4 = Dense(1)"
   ]
  },
  {
   "cell_type": "code",
   "execution_count": 856,
   "metadata": {},
   "outputs": [],
   "source": [
    "model.add(l1)\n",
    "model.add(l2)\n",
    "model.add(l3)\n",
    "model.add(l4)"
   ]
  },
  {
   "cell_type": "code",
   "execution_count": 857,
   "metadata": {},
   "outputs": [
    {
     "name": "stdout",
     "output_type": "stream",
     "text": [
      "Model: \"auto_mpg\"\n",
      "_________________________________________________________________\n",
      " Layer (type)                Output Shape              Param #   \n",
      "=================================================================\n",
      " dense_119 (Dense)           (None, 30)                240       \n",
      "                                                                 \n",
      " dense_120 (Dense)           (None, 5000)              155000    \n",
      "                                                                 \n",
      " dense_121 (Dense)           (None, 5000)              25005000  \n",
      "                                                                 \n",
      " dense_122 (Dense)           (None, 1)                 5001      \n",
      "                                                                 \n",
      "=================================================================\n",
      "Total params: 25,165,241\n",
      "Trainable params: 25,165,241\n",
      "Non-trainable params: 0\n",
      "_________________________________________________________________\n"
     ]
    }
   ],
   "source": [
    "model.summary()"
   ]
  },
  {
   "cell_type": "code",
   "execution_count": 862,
   "metadata": {},
   "outputs": [
    {
     "name": "stdout",
     "output_type": "stream",
     "text": [
      "<class 'pandas.core.frame.DataFrame'>\n",
      "RangeIndex: 398 entries, 0 to 397\n",
      "Data columns (total 8 columns):\n",
      " #   Column        Non-Null Count  Dtype  \n",
      "---  ------        --------------  -----  \n",
      " 0   MPG           398 non-null    float64\n",
      " 1   Cylinders     398 non-null    int64  \n",
      " 2   Displacement  398 non-null    float64\n",
      " 3   Horsepower    398 non-null    float64\n",
      " 4   Weight        398 non-null    float64\n",
      " 5   Acceleration  398 non-null    float64\n",
      " 6   Model Year    398 non-null    int64  \n",
      " 7   Origin        398 non-null    int64  \n",
      "dtypes: float64(5), int64(3)\n",
      "memory usage: 25.0 KB\n"
     ]
    }
   ],
   "source": [
    "df.info()"
   ]
  },
  {
   "cell_type": "code",
   "execution_count": 858,
   "metadata": {},
   "outputs": [],
   "source": [
    "model.compile(loss='mse', \n",
    "            optimizer='adam', \n",
    "            metrics=['mse'])"
   ]
  },
  {
   "cell_type": "code",
   "execution_count": 859,
   "metadata": {},
   "outputs": [
    {
     "name": "stdout",
     "output_type": "stream",
     "text": [
      "Epoch 1/100\n",
      "10/10 [==============================] - 2s 124ms/step - loss: 250.0415 - mse: 250.0415\n",
      "Epoch 2/100\n",
      "10/10 [==============================] - 1s 112ms/step - loss: 40.5169 - mse: 40.5169\n",
      "Epoch 3/100\n",
      "10/10 [==============================] - 1s 121ms/step - loss: 30.2968 - mse: 30.2968\n",
      "Epoch 4/100\n",
      "10/10 [==============================] - 1s 115ms/step - loss: 20.8237 - mse: 20.8237\n",
      "Epoch 5/100\n",
      "10/10 [==============================] - 1s 110ms/step - loss: 19.0006 - mse: 19.0006\n",
      "Epoch 6/100\n",
      "10/10 [==============================] - 1s 120ms/step - loss: 17.3372 - mse: 17.3372\n",
      "Epoch 7/100\n",
      "10/10 [==============================] - 1s 116ms/step - loss: 14.8893 - mse: 14.8893\n",
      "Epoch 8/100\n",
      "10/10 [==============================] - 1s 118ms/step - loss: 14.8530 - mse: 14.8530\n",
      "Epoch 9/100\n",
      "10/10 [==============================] - 1s 124ms/step - loss: 13.4155 - mse: 13.4155\n",
      "Epoch 10/100\n",
      "10/10 [==============================] - 1s 133ms/step - loss: 14.1182 - mse: 14.1182\n",
      "Epoch 11/100\n",
      "10/10 [==============================] - 1s 124ms/step - loss: 12.8302 - mse: 12.8302\n",
      "Epoch 12/100\n",
      "10/10 [==============================] - 1s 116ms/step - loss: 11.1505 - mse: 11.1505\n",
      "Epoch 13/100\n",
      "10/10 [==============================] - 1s 116ms/step - loss: 11.5003 - mse: 11.5003\n",
      "Epoch 14/100\n",
      "10/10 [==============================] - 1s 134ms/step - loss: 11.5532 - mse: 11.5532\n",
      "Epoch 15/100\n",
      "10/10 [==============================] - 1s 131ms/step - loss: 9.8918 - mse: 9.8918\n",
      "Epoch 16/100\n",
      "10/10 [==============================] - 1s 122ms/step - loss: 9.6900 - mse: 9.6900\n",
      "Epoch 17/100\n",
      "10/10 [==============================] - 1s 111ms/step - loss: 10.0759 - mse: 10.0759\n",
      "Epoch 18/100\n",
      "10/10 [==============================] - 1s 118ms/step - loss: 11.2299 - mse: 11.2299\n",
      "Epoch 19/100\n",
      "10/10 [==============================] - 1s 124ms/step - loss: 10.0023 - mse: 10.0023\n",
      "Epoch 20/100\n",
      "10/10 [==============================] - 1s 124ms/step - loss: 8.7694 - mse: 8.7694\n",
      "Epoch 21/100\n",
      "10/10 [==============================] - 1s 110ms/step - loss: 9.1170 - mse: 9.1170\n",
      "Epoch 22/100\n",
      "10/10 [==============================] - 1s 115ms/step - loss: 9.3027 - mse: 9.3027\n",
      "Epoch 23/100\n",
      "10/10 [==============================] - 1s 118ms/step - loss: 7.9963 - mse: 7.9963\n",
      "Epoch 24/100\n",
      "10/10 [==============================] - 1s 138ms/step - loss: 8.0108 - mse: 8.0108\n",
      "Epoch 25/100\n",
      "10/10 [==============================] - 1s 116ms/step - loss: 7.8028 - mse: 7.8028\n",
      "Epoch 26/100\n",
      "10/10 [==============================] - 1s 131ms/step - loss: 7.7450 - mse: 7.7450\n",
      "Epoch 27/100\n",
      "10/10 [==============================] - 1s 111ms/step - loss: 8.8075 - mse: 8.8075\n",
      "Epoch 28/100\n",
      "10/10 [==============================] - 1s 126ms/step - loss: 9.0923 - mse: 9.0923\n",
      "Epoch 29/100\n",
      "10/10 [==============================] - 1s 113ms/step - loss: 8.5635 - mse: 8.5635\n",
      "Epoch 30/100\n",
      "10/10 [==============================] - 1s 117ms/step - loss: 8.7675 - mse: 8.7675\n",
      "Epoch 31/100\n",
      "10/10 [==============================] - 1s 110ms/step - loss: 8.5743 - mse: 8.5743\n",
      "Epoch 32/100\n",
      "10/10 [==============================] - 1s 115ms/step - loss: 11.1613 - mse: 11.1613\n",
      "Epoch 33/100\n",
      "10/10 [==============================] - 1s 109ms/step - loss: 9.3346 - mse: 9.3346\n",
      "Epoch 34/100\n",
      "10/10 [==============================] - 1s 111ms/step - loss: 7.8086 - mse: 7.8086\n",
      "Epoch 35/100\n",
      "10/10 [==============================] - 1s 116ms/step - loss: 6.9426 - mse: 6.9426\n",
      "Epoch 36/100\n",
      "10/10 [==============================] - 1s 116ms/step - loss: 7.0937 - mse: 7.0937\n",
      "Epoch 37/100\n",
      "10/10 [==============================] - 1s 108ms/step - loss: 7.7215 - mse: 7.7215\n",
      "Epoch 38/100\n",
      "10/10 [==============================] - 1s 119ms/step - loss: 7.2878 - mse: 7.2878\n",
      "Epoch 39/100\n",
      "10/10 [==============================] - 1s 134ms/step - loss: 6.4591 - mse: 6.4591\n",
      "Epoch 40/100\n",
      "10/10 [==============================] - 2s 156ms/step - loss: 7.9135 - mse: 7.9135\n",
      "Epoch 41/100\n",
      "10/10 [==============================] - 1s 131ms/step - loss: 7.2427 - mse: 7.2427\n",
      "Epoch 42/100\n",
      "10/10 [==============================] - 1s 129ms/step - loss: 7.7388 - mse: 7.7388\n",
      "Epoch 43/100\n",
      "10/10 [==============================] - 1s 149ms/step - loss: 8.2238 - mse: 8.2238\n",
      "Epoch 44/100\n",
      "10/10 [==============================] - 1s 123ms/step - loss: 8.8421 - mse: 8.8421\n",
      "Epoch 45/100\n",
      "10/10 [==============================] - 1s 122ms/step - loss: 8.0092 - mse: 8.0092\n",
      "Epoch 46/100\n",
      "10/10 [==============================] - 1s 118ms/step - loss: 8.8530 - mse: 8.8530\n",
      "Epoch 47/100\n",
      "10/10 [==============================] - 1s 135ms/step - loss: 6.5754 - mse: 6.5754\n",
      "Epoch 48/100\n",
      "10/10 [==============================] - 1s 130ms/step - loss: 6.4214 - mse: 6.4214\n",
      "Epoch 49/100\n",
      "10/10 [==============================] - 1s 135ms/step - loss: 6.9471 - mse: 6.9471\n",
      "Epoch 50/100\n",
      "10/10 [==============================] - 1s 133ms/step - loss: 6.6545 - mse: 6.6545\n",
      "Epoch 51/100\n",
      "10/10 [==============================] - 1s 137ms/step - loss: 6.3333 - mse: 6.3333\n",
      "Epoch 52/100\n",
      "10/10 [==============================] - 1s 134ms/step - loss: 5.8987 - mse: 5.8987\n",
      "Epoch 53/100\n",
      "10/10 [==============================] - 1s 130ms/step - loss: 6.1663 - mse: 6.1663\n",
      "Epoch 54/100\n",
      "10/10 [==============================] - 2s 151ms/step - loss: 6.3971 - mse: 6.3971\n",
      "Epoch 55/100\n",
      "10/10 [==============================] - 1s 138ms/step - loss: 6.0640 - mse: 6.0640\n",
      "Epoch 56/100\n",
      "10/10 [==============================] - 1s 132ms/step - loss: 5.7970 - mse: 5.7970\n",
      "Epoch 57/100\n",
      "10/10 [==============================] - 1s 145ms/step - loss: 5.9402 - mse: 5.9402\n",
      "Epoch 58/100\n",
      "10/10 [==============================] - 2s 164ms/step - loss: 6.0155 - mse: 6.0155\n",
      "Epoch 59/100\n",
      "10/10 [==============================] - 2s 169ms/step - loss: 6.6567 - mse: 6.6567\n",
      "Epoch 60/100\n",
      "10/10 [==============================] - 2s 150ms/step - loss: 5.8247 - mse: 5.8247\n",
      "Epoch 61/100\n",
      "10/10 [==============================] - 1s 144ms/step - loss: 6.1014 - mse: 6.1014\n",
      "Epoch 62/100\n",
      "10/10 [==============================] - 1s 122ms/step - loss: 5.8399 - mse: 5.8399\n",
      "Epoch 63/100\n",
      "10/10 [==============================] - 1s 140ms/step - loss: 5.5683 - mse: 5.5683\n",
      "Epoch 64/100\n",
      "10/10 [==============================] - 1s 150ms/step - loss: 5.4239 - mse: 5.4239\n",
      "Epoch 65/100\n",
      "10/10 [==============================] - 2s 149ms/step - loss: 5.5710 - mse: 5.5710\n",
      "Epoch 66/100\n",
      "10/10 [==============================] - 2s 162ms/step - loss: 6.4196 - mse: 6.4196\n",
      "Epoch 67/100\n",
      "10/10 [==============================] - 2s 154ms/step - loss: 7.0436 - mse: 7.0436\n",
      "Epoch 68/100\n",
      "10/10 [==============================] - 1s 126ms/step - loss: 5.6315 - mse: 5.6315\n",
      "Epoch 69/100\n",
      "10/10 [==============================] - 1s 146ms/step - loss: 5.4897 - mse: 5.4897\n",
      "Epoch 70/100\n",
      "10/10 [==============================] - 2s 153ms/step - loss: 5.5124 - mse: 5.5124\n",
      "Epoch 71/100\n",
      "10/10 [==============================] - 1s 138ms/step - loss: 5.0517 - mse: 5.0517\n",
      "Epoch 72/100\n",
      "10/10 [==============================] - 1s 129ms/step - loss: 5.0795 - mse: 5.0795\n",
      "Epoch 73/100\n",
      "10/10 [==============================] - 1s 146ms/step - loss: 6.2597 - mse: 6.2597\n",
      "Epoch 74/100\n",
      "10/10 [==============================] - 1s 137ms/step - loss: 5.3154 - mse: 5.3154\n",
      "Epoch 75/100\n",
      "10/10 [==============================] - 1s 129ms/step - loss: 5.0521 - mse: 5.0521\n",
      "Epoch 76/100\n",
      "10/10 [==============================] - 1s 121ms/step - loss: 5.6647 - mse: 5.6647\n",
      "Epoch 77/100\n",
      "10/10 [==============================] - 1s 131ms/step - loss: 5.7534 - mse: 5.7534\n",
      "Epoch 78/100\n",
      "10/10 [==============================] - 1s 146ms/step - loss: 5.2336 - mse: 5.2336\n",
      "Epoch 79/100\n",
      "10/10 [==============================] - 1s 135ms/step - loss: 5.2805 - mse: 5.2805\n",
      "Epoch 80/100\n",
      "10/10 [==============================] - 1s 121ms/step - loss: 6.0082 - mse: 6.0082\n",
      "Epoch 81/100\n",
      "10/10 [==============================] - 1s 125ms/step - loss: 8.1161 - mse: 8.1161\n",
      "Epoch 82/100\n",
      "10/10 [==============================] - 1s 120ms/step - loss: 6.2868 - mse: 6.2868\n",
      "Epoch 83/100\n",
      "10/10 [==============================] - 1s 118ms/step - loss: 6.4449 - mse: 6.4449\n",
      "Epoch 84/100\n",
      "10/10 [==============================] - 1s 117ms/step - loss: 5.2793 - mse: 5.2793\n",
      "Epoch 85/100\n",
      "10/10 [==============================] - 1s 113ms/step - loss: 5.2046 - mse: 5.2046\n",
      "Epoch 86/100\n",
      "10/10 [==============================] - 1s 119ms/step - loss: 5.7380 - mse: 5.7380\n",
      "Epoch 87/100\n",
      "10/10 [==============================] - 1s 119ms/step - loss: 5.0537 - mse: 5.0537\n",
      "Epoch 88/100\n",
      "10/10 [==============================] - 1s 112ms/step - loss: 4.8839 - mse: 4.8839\n",
      "Epoch 89/100\n",
      "10/10 [==============================] - 1s 137ms/step - loss: 5.1904 - mse: 5.1904\n",
      "Epoch 90/100\n",
      "10/10 [==============================] - 1s 113ms/step - loss: 5.7048 - mse: 5.7048\n",
      "Epoch 91/100\n",
      "10/10 [==============================] - 1s 123ms/step - loss: 4.8883 - mse: 4.8883\n",
      "Epoch 92/100\n",
      "10/10 [==============================] - 1s 114ms/step - loss: 5.0640 - mse: 5.0640\n",
      "Epoch 93/100\n",
      "10/10 [==============================] - 1s 150ms/step - loss: 5.4920 - mse: 5.4920\n",
      "Epoch 94/100\n",
      "10/10 [==============================] - 1s 131ms/step - loss: 5.4421 - mse: 5.4421\n",
      "Epoch 95/100\n",
      "10/10 [==============================] - 1s 118ms/step - loss: 5.8911 - mse: 5.8911\n",
      "Epoch 96/100\n",
      "10/10 [==============================] - 1s 122ms/step - loss: 4.6511 - mse: 4.6511\n",
      "Epoch 97/100\n",
      "10/10 [==============================] - 1s 114ms/step - loss: 4.8226 - mse: 4.8226\n",
      "Epoch 98/100\n",
      "10/10 [==============================] - 1s 142ms/step - loss: 4.8166 - mse: 4.8166\n",
      "Epoch 99/100\n",
      "10/10 [==============================] - 1s 148ms/step - loss: 4.5669 - mse: 4.5669\n",
      "Epoch 100/100\n",
      "10/10 [==============================] - 1s 131ms/step - loss: 4.6653 - mse: 4.6653\n"
     ]
    },
    {
     "data": {
      "text/plain": [
       "<keras.callbacks.History at 0x7fbacca9e890>"
      ]
     },
     "execution_count": 859,
     "metadata": {},
     "output_type": "execute_result"
    }
   ],
   "source": [
    "model.fit(train_X, train_y, epochs =100)"
   ]
  },
  {
   "cell_type": "code",
   "execution_count": 860,
   "metadata": {},
   "outputs": [
    {
     "name": "stdout",
     "output_type": "stream",
     "text": [
      "3/3 [==============================] - 0s 30ms/step - loss: 7.2557 - mse: 7.2557\n"
     ]
    }
   ],
   "source": [
    "loss, accuracy = model.evaluate(test_X, test_y)"
   ]
  },
  {
   "cell_type": "code",
   "execution_count": 861,
   "metadata": {},
   "outputs": [
    {
     "name": "stdout",
     "output_type": "stream",
     "text": [
      "loss = 7.26\n"
     ]
    }
   ],
   "source": [
    "print(\"loss = {:.2f}\".format(loss))"
   ]
  },
  {
   "cell_type": "code",
   "execution_count": null,
   "metadata": {},
   "outputs": [],
   "source": []
  }
 ],
 "metadata": {
  "kernelspec": {
   "display_name": "Python 3.10.5 ('base')",
   "language": "python",
   "name": "python3"
  },
  "language_info": {
   "codemirror_mode": {
    "name": "ipython",
    "version": 3
   },
   "file_extension": ".py",
   "mimetype": "text/x-python",
   "name": "python",
   "nbconvert_exporter": "python",
   "pygments_lexer": "ipython3",
   "version": "3.10.5"
  },
  "orig_nbformat": 4,
  "vscode": {
   "interpreter": {
    "hash": "d4d1e4263499bec80672ea0156c357c1ee493ec2b1c70f0acce89fc37c4a6abe"
   }
  }
 },
 "nbformat": 4,
 "nbformat_minor": 2
}
